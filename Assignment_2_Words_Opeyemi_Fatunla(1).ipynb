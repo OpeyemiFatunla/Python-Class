{
  "cells": [
    {
      "cell_type": "markdown",
      "metadata": {
        "id": "view-in-github",
        "colab_type": "text"
      },
      "source": [
        "<a href=\"https://colab.research.google.com/github/OpeyemiFatunla/Python-Class/blob/main/Assignment_2_Words_Opeyemi_Fatunla(1).ipynb\" target=\"_parent\"><img src=\"https://colab.research.google.com/assets/colab-badge.svg\" alt=\"Open In Colab\"/></a>"
      ]
    },
    {
      "cell_type": "markdown",
      "metadata": {
        "id": "wKPZPbG_-AZh"
      },
      "source": [
        "# Assignment 2 - Words"
      ]
    },
    {
      "cell_type": "markdown",
      "metadata": {
        "id": "kl-gbtyP-Aai"
      },
      "source": [
        "In this assignment **you** will search for words based on predefined criteria.\n",
        "\n",
        "For instance, which words does not include any vowels or the letters of which words are in alphabetical order...\n",
        "\n",
        "The words are from **Lorem Ipsum**.\n",
        "\n",
        "Lorem Ipsum is simply dummy text of the printing and typesetting industry. \n",
        "\n",
        "https://www.lipsum.com/"
      ]
    },
    {
      "cell_type": "markdown",
      "metadata": {
        "id": "RhdLxnBw-Aap"
      },
      "source": [
        "Complete the code with respect to **#TODO** statements."
      ]
    },
    {
      "cell_type": "markdown",
      "metadata": {
        "id": "6BrPjy2g-Aav"
      },
      "source": [
        "**Preparation:**\n",
        "\n",
        "To read the words:\n",
        "\n",
        "* open() function\n",
        "    * open(file, mode)\n",
        "    * mode:\n",
        "        * r: read (default)\n",
        "        * a: append\n",
        "        * w: write\n",
        "        * x: create"
      ]
    },
    {
      "cell_type": "code",
      "execution_count": null,
      "metadata": {
        "id": "keH4D-4z-Abz"
      },
      "outputs": [],
      "source": [
        "# open()\n",
        "\n",
        "file = open('words.txt')"
      ]
    },
    {
      "cell_type": "code",
      "execution_count": null,
      "metadata": {
        "id": "GxoKxdb4-AcM",
        "outputId": "2c259d0b-9bb9-46db-cacc-cf58030cb35a"
      },
      "outputs": [
        {
          "data": {
            "text/plain": [
              "'Lorem\\n'"
            ]
          },
          "execution_count": 2,
          "metadata": {},
          "output_type": "execute_result"
        }
      ],
      "source": [
        "# let's read the line\n",
        "\n",
        "file.readline()"
      ]
    },
    {
      "cell_type": "code",
      "execution_count": null,
      "metadata": {
        "id": "20rIGQKe-Act",
        "outputId": "d9889504-c2f5-40b1-97c5-0b6fb3051b72"
      },
      "outputs": [
        {
          "data": {
            "text/plain": [
              "'ipsum\\n'"
            ]
          },
          "execution_count": 3,
          "metadata": {},
          "output_type": "execute_result"
        }
      ],
      "source": [
        "# let's read the second line\n",
        "\n",
        "file.readline()"
      ]
    },
    {
      "cell_type": "markdown",
      "metadata": {
        "id": "9CbYh_jB-Ac1"
      },
      "source": [
        "**Special Chars:**\n",
        "* \\n : new line character\n",
        "* \\r : carriage return (enter)"
      ]
    },
    {
      "cell_type": "code",
      "execution_count": null,
      "metadata": {
        "id": "k-s4J6PJ-Ac6",
        "outputId": "c4497275-5d24-4c7a-8a72-818b3cd3e364"
      },
      "outputs": [
        {
          "data": {
            "text/plain": [
              "'dolor\\n'"
            ]
          },
          "execution_count": 4,
          "metadata": {},
          "output_type": "execute_result"
        }
      ],
      "source": [
        "# run readline\n",
        "\n",
        "line = file.readline()\n",
        "line"
      ]
    },
    {
      "cell_type": "code",
      "execution_count": null,
      "metadata": {
        "collapsed": true,
        "jupyter": {
          "outputs_hidden": true
        },
        "id": "bZ_4Z7h--AdA",
        "outputId": "0cdf1742-6f30-42a0-cc66-764a14dded46"
      },
      "outputs": [
        {
          "name": "stdout",
          "output_type": "stream",
          "text": [
            "Lorem\n",
            "\n",
            "ipsum\n",
            "\n",
            "dolor\n",
            "\n",
            "sit\n",
            "\n",
            "amet\n",
            "\n",
            "consectetur\n",
            "\n",
            "adipiscing\n",
            "\n",
            "elit\n",
            "\n",
            "Nulla\n",
            "\n",
            "sodales\n",
            "\n",
            "orci\n",
            "\n",
            "sed\n",
            "\n",
            "nisl\n",
            "\n",
            "tempor\n",
            "\n",
            "tristique\n",
            "\n",
            "Donec\n",
            "\n",
            "commodo\n",
            "\n",
            "non\n",
            "\n",
            "leo\n",
            "\n",
            "quis\n",
            "\n",
            "fermentum\n",
            "\n"
          ]
        }
      ],
      "source": [
        "# print the first 20 lines\n",
        "\n",
        "file = open('words.txt')\n",
        "\n",
        "# we need index -> enumerate\n",
        "\n",
        "for index, line in enumerate(file):\n",
        "    \n",
        "    if index <= 20:\n",
        "        print(line)\n",
        "    "
      ]
    },
    {
      "cell_type": "code",
      "execution_count": null,
      "metadata": {
        "id": "B2TV6p4e-AdF",
        "outputId": "2657e02d-0c0f-40a6-9119-b8a1017883d0"
      },
      "outputs": [
        {
          "name": "stdout",
          "output_type": "stream",
          "text": [
            "['Lorem']\n",
            "['ipsum']\n",
            "['dolor']\n",
            "['sit']\n",
            "['amet']\n",
            "['consectetur']\n",
            "['adipiscing']\n",
            "['elit']\n",
            "['Nulla']\n",
            "['sodales']\n",
            "['orci']\n",
            "['sed']\n",
            "['nisl']\n",
            "['tempor']\n",
            "['tristique']\n",
            "['Donec']\n",
            "['commodo']\n",
            "['non']\n",
            "['leo']\n",
            "['quis']\n",
            "['fermentum']\n"
          ]
        }
      ],
      "source": [
        "# remove new line\n",
        "\n",
        "file = open('words.txt')\n",
        "\n",
        "for index, line in enumerate(file):\n",
        "    \n",
        "    if index <= 20:\n",
        "        \n",
        "        # split() -> splits the text from space chars (space, \\n new line, carriage return)\n",
        "        word_list = line.split()\n",
        "        print(word_list)\n"
      ]
    },
    {
      "cell_type": "markdown",
      "metadata": {
        "id": "aJ5NTCcu-AdL"
      },
      "source": [
        "**Exercise 1:**\n",
        "\n",
        "We will print the words which have number of letters more than 10."
      ]
    },
    {
      "cell_type": "code",
      "execution_count": 12,
      "metadata": {
        "colab": {
          "base_uri": "https://localhost:8080/"
        },
        "id": "NVq3AwMW-AdQ",
        "outputId": "0333fccc-2cef-4d41-fdbb-ef3ef4ffee30"
      },
      "outputs": [
        {
          "output_type": "stream",
          "name": "stdout",
          "text": [
            "consectetur\n",
            "pellentesque\n",
            "sollicitudin\n",
            "scelerisque\n",
            "ullamcorper\n",
            "condimentum\n",
            "Suspendisse\n"
          ]
        }
      ],
      "source": [
        "\n",
        "file = open('/content/words.txt')\n",
        "\n",
        "\n",
        "for line in file:\n",
        "    \n",
        "    word_list = line.split()  \n",
        "    word = word_list[0]\n",
        "    if len(word) > 10:\n",
        "        print(word)\n",
        "    "
      ]
    },
    {
      "cell_type": "markdown",
      "metadata": {
        "id": "-v6f2Llv-AdV"
      },
      "source": [
        "**Exercise 2:**\n",
        "\n",
        "Define a new function.\n",
        "\n",
        "This function will search for the words which have no vowels in it. (a, e, i, o, u)"
      ]
    },
    {
      "cell_type": "code",
      "execution_count": 13,
      "metadata": {
        "colab": {
          "base_uri": "https://localhost:8080/"
        },
        "id": "i17ZgYYD-Adb",
        "outputId": "d3874736-4667-4930-c3fc-b5720de82ad7"
      },
      "outputs": [
        {
          "output_type": "stream",
          "name": "stdout",
          "text": [
            "In\n",
            "trylyk\n",
            "Antryl\n"
          ]
        }
      ],
      "source": [
        "\n",
        "def check_for_vowels():\n",
        "  file = open('/content/words.txt')\n",
        "  for line in file:\n",
        "     word_list = line.split()  \n",
        "     word = word_list[0]\n",
        "     if not 'a' in word and \\\n",
        "        not 'e' in word and \\\n",
        "        not 'i' in word and \\\n",
        "        not 'o' in word and \\\n",
        "        not 'u' in word:\n",
        "        print(word)\n",
        "check_for_vowels()        "
      ]
    },
    {
      "cell_type": "code",
      "execution_count": null,
      "metadata": {
        "id": "7J1-DeNO-Ade",
        "outputId": "eb94e1c6-d160-4047-fcba-375383f17a08"
      },
      "outputs": [
        {
          "name": "stdout",
          "output_type": "stream",
          "text": [
            "In\n",
            "trylyk\n",
            "Antryl\n"
          ]
        }
      ],
      "source": [
        "check_for_vowels()"
      ]
    },
    {
      "cell_type": "code",
      "execution_count": 17,
      "metadata": {
        "colab": {
          "base_uri": "https://localhost:8080/"
        },
        "id": "HSpCTZBa-Adj",
        "outputId": "d6adc774-3b9c-49b6-ffca-76371edb6927"
      },
      "outputs": [
        {
          "output_type": "stream",
          "name": "stdout",
          "text": [
            "trylyk\n"
          ]
        }
      ],
      "source": [
        "def check_for_vowels():\n",
        "  file = open('/content/words.txt')\n",
        "  for line in file:\n",
        "     word_list = line.split()  \n",
        "     word = word_list[0]\n",
        "     word = word.lower()\n",
        "     if not 'a' in word and \\\n",
        "        not 'e' in word and \\\n",
        "        not 'i' in word and \\\n",
        "        not 'o' in word and \\\n",
        "        not 'u' in word:\n",
        "        print(word)\n",
        "check_for_vowels()           "
      ]
    },
    {
      "cell_type": "code",
      "execution_count": null,
      "metadata": {
        "id": "vgpxQC6l-Adm",
        "outputId": "3b894d14-9c89-45e8-a2d3-3432171a4a21"
      },
      "outputs": [
        {
          "name": "stdout",
          "output_type": "stream",
          "text": [
            "trylyk\n"
          ]
        }
      ],
      "source": [
        "check_for_vowels()"
      ]
    },
    {
      "cell_type": "markdown",
      "metadata": {
        "id": "5DnPk3q1-Adp"
      },
      "source": [
        "Check for words which includes 'ae' together and in this order. "
      ]
    },
    {
      "cell_type": "code",
      "execution_count": 18,
      "metadata": {
        "colab": {
          "base_uri": "https://localhost:8080/"
        },
        "id": "8KXCeKpK-Adr",
        "outputId": "89eae1f0-c503-4549-e49b-4909a68aaed4"
      },
      "outputs": [
        {
          "output_type": "stream",
          "name": "stdout",
          "text": [
            "vitae\n",
            "praesent\n",
            "aenean\n",
            "maecenas\n"
          ]
        }
      ],
      "source": [
        "def check_for_ae():\n",
        "  file = open('/content/words.txt')\n",
        "  for line in file:\n",
        "     word_list = line.split()  \n",
        "     word = word_list[0]\n",
        "     word = word.lower()\n",
        "     if \"ae\" in word:\n",
        "       print(word)\n",
        "check_for_ae()"
      ]
    },
    {
      "cell_type": "code",
      "execution_count": null,
      "metadata": {
        "id": "gK5udSo--Adv",
        "outputId": "feea4da1-a4a2-437a-ed57-73f483cca248"
      },
      "outputs": [
        {
          "name": "stdout",
          "output_type": "stream",
          "text": [
            "vitae\n",
            "praesent\n",
            "aenean\n",
            "maecenas\n"
          ]
        }
      ],
      "source": [
        "check_for_ae()"
      ]
    },
    {
      "cell_type": "markdown",
      "metadata": {
        "id": "ixTvWsZM-Adz"
      },
      "source": [
        "**Exercise 3:**\n",
        "\n",
        "We will define a function **is_any_forbidden_letter**.\n",
        "\n",
        "It will take letters which are forbidden and a text.\n",
        "\n",
        "It will check if this text included any of these forbidden letters.\n",
        "\n",
        "bool function -> True, False"
      ]
    },
    {
      "cell_type": "code",
      "execution_count": 19,
      "metadata": {
        "id": "dhJzhISY-Ad1"
      },
      "outputs": [],
      "source": [
        "def is_any_forbidden_letter(text, forbidden_letters):\n",
        "    \n",
        "    for letter in text:\n",
        "        if letter in forbidden_letters:\n",
        "            return True\n",
        "    else:\n",
        "        return False\n",
        "    "
      ]
    },
    {
      "cell_type": "code",
      "execution_count": 20,
      "metadata": {
        "colab": {
          "base_uri": "https://localhost:8080/"
        },
        "id": "7u_hDFpZ-Ad6",
        "outputId": "332bbec6-539a-4c9e-9eba-ba163ef3ef81"
      },
      "outputs": [
        {
          "output_type": "execute_result",
          "data": {
            "text/plain": [
              "True"
            ]
          },
          "metadata": {},
          "execution_count": 20
        }
      ],
      "source": [
        "sentence = 'This is a forbidden sentence.'\n",
        "forbidden_letters = 'ae'\n",
        "\n",
        "is_any_forbidden_letter(sentence, forbidden_letters)"
      ]
    },
    {
      "cell_type": "code",
      "execution_count": 21,
      "metadata": {
        "colab": {
          "base_uri": "https://localhost:8080/"
        },
        "id": "_d4rGR6D-Ad9",
        "outputId": "a88cfef4-2403-435a-fcc7-04e1e061589c"
      },
      "outputs": [
        {
          "output_type": "execute_result",
          "data": {
            "text/plain": [
              "False"
            ]
          },
          "metadata": {},
          "execution_count": 21
        }
      ],
      "source": [
        "sentence = 'This is a forbidden sentence.'\n",
        "forbidden_letters = 'xy'\n",
        "\n",
        "is_any_forbidden_letter(sentence, forbidden_letters)"
      ]
    },
    {
      "cell_type": "markdown",
      "metadata": {
        "id": "_hJBjeB_-Ad_"
      },
      "source": [
        "**Exercise 4:**\n",
        "\n",
        "Define a function named **only_uses_these_letters**\n",
        "\n",
        "It will take letters and a text.\n",
        "\n",
        "It will check if this text uses only these letters.\n",
        "\n",
        "It the text uses only these letters -> True\n",
        "\n",
        "bool function -> True, False"
      ]
    },
    {
      "cell_type": "code",
      "execution_count": 22,
      "metadata": {
        "id": "tPGf-Nxg-AeA"
      },
      "outputs": [],
      "source": [
        "def only_uses_these_letters(text, letters):\n",
        "    \n",
        "    for char in text:\n",
        "      if char.isalpha() and not char in letters:\n",
        "        return False\n",
        "      else:\n",
        "        return True\n",
        "    "
      ]
    },
    {
      "cell_type": "code",
      "execution_count": 23,
      "metadata": {
        "colab": {
          "base_uri": "https://localhost:8080/"
        },
        "id": "O53uBScJ-AeC",
        "outputId": "8332874b-6ce9-4f10-caf3-49bf9be775a3"
      },
      "outputs": [
        {
          "output_type": "execute_result",
          "data": {
            "text/plain": [
              "True"
            ]
          },
          "metadata": {},
          "execution_count": 23
        }
      ],
      "source": [
        "sentence = 'check'\n",
        "letters = 'chek'\n",
        "\n",
        "only_uses_these_letters(sentence, letters)"
      ]
    },
    {
      "cell_type": "code",
      "execution_count": 24,
      "metadata": {
        "colab": {
          "base_uri": "https://localhost:8080/"
        },
        "id": "FQRmltMl-AeE",
        "outputId": "915e4a7f-2eed-4f32-c1de-97c0c121db42"
      },
      "outputs": [
        {
          "output_type": "execute_result",
          "data": {
            "text/plain": [
              "True"
            ]
          },
          "metadata": {},
          "execution_count": 24
        }
      ],
      "source": [
        "sentence = 'check this'\n",
        "letters = 'chek'\n",
        "\n",
        "only_uses_these_letters(sentence, letters)"
      ]
    },
    {
      "cell_type": "markdown",
      "metadata": {
        "id": "o5E_fYgL-AeI"
      },
      "source": [
        "**Exercise 5:**\n",
        "\n",
        "use the function E4, check for Lorem words using only 'ens' letters."
      ]
    },
    {
      "cell_type": "code",
      "execution_count": 32,
      "metadata": {
        "id": "Fc_Lscju-AeK"
      },
      "outputs": [],
      "source": [
        "def only_uses_these_letters_lorem(letters):\n",
        "  file = open('/content/words.txt')\n",
        "  for line in file:\n",
        "    word_list = line.split()  \n",
        "    word = word_list[0]\n",
        "    word = word.lower()\n",
        "    if only_uses_these_letters(word, letters):\n",
        "       print(word)  \n",
        "        \n",
        "    "
      ]
    },
    {
      "cell_type": "code",
      "execution_count": 39,
      "metadata": {
        "colab": {
          "base_uri": "https://localhost:8080/"
        },
        "id": "fKQOmMrN-AeN",
        "outputId": "1ac96688-2228-4e62-812a-f7e00215e7a2"
      },
      "outputs": [
        {
          "output_type": "stream",
          "name": "stdout",
          "text": [
            "sit\n",
            "elit\n",
            "nulla\n",
            "sodales\n",
            "sed\n",
            "nisl\n",
            "non\n",
            "sagittis\n",
            "suscipit\n",
            "eleifend\n",
            "nunc\n",
            "eu\n",
            "nisi\n",
            "natoque\n",
            "et\n",
            "nascetur\n",
            "neque\n",
            "ex\n",
            "nam\n",
            "eros\n",
            "egestas\n",
            "sollicitudin\n",
            "est\n",
            "elementum\n",
            "euismod\n",
            "sapien\n",
            "erat\n",
            "sesse\n",
            "nesnes\n",
            "semper\n",
            "nibh\n",
            "enim\n",
            "eget\n",
            "efficitur\n",
            "sem\n",
            "nec\n",
            "scelerisque\n",
            "senesses\n",
            "netus\n",
            "nullam\n",
            "saassa\n",
            "suspendisse\n"
          ]
        }
      ],
      "source": [
        "letters = \"ens\"\n",
        "only_uses_these_letters_lorem(letters)"
      ]
    },
    {
      "cell_type": "markdown",
      "metadata": {
        "id": "N2pwiEX6-AeP"
      },
      "source": [
        "**Exercise 6:**\n",
        "\n",
        "Define a function named **uses_all**.\n",
        "\n",
        "It will take a text and letters.\n",
        "\n",
        "If the text uses all the letter at least once, it will return True."
      ]
    },
    {
      "cell_type": "code",
      "execution_count": 40,
      "metadata": {
        "id": "FYQYaWta-AeQ"
      },
      "outputs": [],
      "source": [
        "\n",
        "def uses_all(text, letters):\n",
        "    \n",
        "    it_uses_all = True\n",
        "    \n",
        "    for letter in letters:\n",
        "        # if letter is not text -> text is not using this letter\n",
        "        if not letter in text:\n",
        "            it_uses_all = False\n",
        "    \n",
        "    # loop finishes\n",
        "    return it_uses_all\n"
      ]
    },
    {
      "cell_type": "code",
      "execution_count": 41,
      "metadata": {
        "colab": {
          "base_uri": "https://localhost:8080/"
        },
        "id": "8EH3FAXB-AeT",
        "outputId": "290c6504-811b-4110-e663-c72fc2e1e8a1"
      },
      "outputs": [
        {
          "output_type": "execute_result",
          "data": {
            "text/plain": [
              "True"
            ]
          },
          "metadata": {},
          "execution_count": 41
        }
      ],
      "source": [
        "letters = 'abd'\n",
        "\n",
        "text = 'This is a bold sentence.'\n",
        "\n",
        "uses_all(text, letters)"
      ]
    },
    {
      "cell_type": "code",
      "execution_count": 43,
      "metadata": {
        "colab": {
          "base_uri": "https://localhost:8080/"
        },
        "id": "ShISi-XM-AeV",
        "outputId": "b9e7df07-196e-4b73-a46f-1c62ef6e79af"
      },
      "outputs": [
        {
          "output_type": "execute_result",
          "data": {
            "text/plain": [
              "True"
            ]
          },
          "metadata": {},
          "execution_count": 43
        }
      ],
      "source": [
        "letters = 'abcd'\n",
        "\n",
        "text = 'This is a bold sentence.'\n",
        "\n",
        "uses_all(text, letters)"
      ]
    },
    {
      "cell_type": "code",
      "execution_count": 44,
      "metadata": {
        "colab": {
          "base_uri": "https://localhost:8080/"
        },
        "id": "1gjtGOxL-AeX",
        "outputId": "5a3e1932-5e68-4d63-839e-f753eb878138"
      },
      "outputs": [
        {
          "output_type": "execute_result",
          "data": {
            "text/plain": [
              "False"
            ]
          },
          "metadata": {},
          "execution_count": 44
        }
      ],
      "source": [
        "letters = 'abdf'\n",
        "\n",
        "text = 'This is a bold sentence.'\n",
        "\n",
        "uses_all(text, letters)"
      ]
    },
    {
      "cell_type": "markdown",
      "metadata": {
        "id": "v849W8pV-AeZ"
      },
      "source": [
        "**Exercise 7:**\n",
        "\n",
        "Use the function E6 and for Lorem letters check:\n",
        "\n",
        "The words using all the letters in 'aei'."
      ]
    },
    {
      "cell_type": "code",
      "execution_count": 45,
      "metadata": {
        "id": "q_22N3dB-Aec"
      },
      "outputs": [],
      "source": [
        "def uses_all_lorem(letters):\n",
        "   file = open('/content/words.txt')\n",
        "   for line in file:\n",
        "     word_list = line.split()\n",
        "     word = word_list[0]\n",
        "     word = word.lower()\n",
        "     if uses_all(word, letters):\n",
        "       print(word)\n",
        "    "
      ]
    },
    {
      "cell_type": "code",
      "execution_count": 46,
      "metadata": {
        "colab": {
          "base_uri": "https://localhost:8080/"
        },
        "id": "9rLvBvNx-Aee",
        "outputId": "0972aff2-0f29-420e-81ac-7b890a3c236e"
      },
      "outputs": [
        {
          "output_type": "stream",
          "name": "stdout",
          "text": [
            "feugiat\n",
            "penatibus\n",
            "parturient\n",
            "venenatis\n",
            "vitae\n",
            "aliquet\n",
            "sapien\n",
            "viverra\n",
            "vehicula\n",
            "habitasse\n"
          ]
        }
      ],
      "source": [
        "letters = 'aei'\n",
        "uses_all_lorem(letters)"
      ]
    },
    {
      "cell_type": "markdown",
      "metadata": {
        "id": "DVL5vh_m-Aef"
      },
      "source": [
        "**Exercise 8:**\n",
        "\n",
        "Use funtions from:\n",
        "* E4\n",
        "* E6\n",
        "\n",
        "To find the Lorem words which uses only `fir` letters and use them all.\n",
        "\n",
        "The function name will be **only_uses_all**."
      ]
    },
    {
      "cell_type": "code",
      "execution_count": 51,
      "metadata": {
        "id": "Y9PK-Syd-Aei"
      },
      "outputs": [],
      "source": [
        "\n",
        "def only_uses_all(letters):\n",
        "  file = open('words.txt')\n",
        "  for line in file:\n",
        "    word_list = line.split()\n",
        "    word = word_list[0]\n",
        "    word = word.lower()\n",
        "        \n",
        "    if only_uses_these_letters(word, letters) and uses_all(word, letters):\n",
        "      print(word)"
      ]
    },
    {
      "cell_type": "code",
      "execution_count": 52,
      "metadata": {
        "colab": {
          "base_uri": "https://localhost:8080/"
        },
        "id": "wMftguNT-Aek",
        "outputId": "7e84bb45-52e4-49ae-8c8c-6701e9ae51da"
      },
      "outputs": [
        {
          "output_type": "stream",
          "name": "stdout",
          "text": [
            "frifirri\n"
          ]
        }
      ],
      "source": [
        "letters = 'fir'\n",
        "only_uses_all(letters)"
      ]
    },
    {
      "cell_type": "markdown",
      "metadata": {
        "id": "SkIM1ffS-Aem"
      },
      "source": [
        "**Exercise 9:**\n",
        "\n",
        "**ordered_word**: if the letters in a word is in alphabetical order.\n",
        "\n",
        "Define a function named **is_ordered_word**.\n",
        "\n",
        "It will take a string parameter as text.\n",
        "\n",
        "It will return True if it is an ordered word.\n",
        "\n",
        "Ex: abc, agor, def"
      ]
    },
    {
      "cell_type": "code",
      "execution_count": 54,
      "metadata": {
        "id": "Cq-Cpvwv-Aeo"
      },
      "outputs": [],
      "source": [
        "def is_ordered_word(word):\n",
        "    \n",
        "   prev = word[0]\n",
        "    \n",
        "   for letter in word:\n",
        "     if letter < prev:\n",
        "        return False\n",
        "        \n",
        "        prev = letter\n",
        "        \n",
        "        return True"
      ]
    },
    {
      "cell_type": "code",
      "execution_count": 55,
      "metadata": {
        "id": "YLJyfkSP-Aer"
      },
      "outputs": [],
      "source": [
        "word = 'agor'\n",
        "\n",
        "is_ordered_word(word)"
      ]
    },
    {
      "cell_type": "code",
      "execution_count": 56,
      "metadata": {
        "colab": {
          "base_uri": "https://localhost:8080/"
        },
        "id": "9R_lNLwK-Aet",
        "outputId": "486fd429-b968-4662-bf6e-389494e8aa32"
      },
      "outputs": [
        {
          "output_type": "execute_result",
          "data": {
            "text/plain": [
              "False"
            ]
          },
          "metadata": {},
          "execution_count": 56
        }
      ],
      "source": [
        "word = 'python'\n",
        "\n",
        "is_ordered_word(word)"
      ]
    },
    {
      "cell_type": "code",
      "execution_count": 57,
      "metadata": {
        "id": "9euJopny-Aev"
      },
      "outputs": [],
      "source": [
        "word = 'hnty'\n",
        "\n",
        "is_ordered_word(word)"
      ]
    },
    {
      "cell_type": "markdown",
      "metadata": {
        "id": "a1Ji0C7a-Aew"
      },
      "source": [
        "**Exercise 10:**\n",
        "\n",
        "Use function in E9 to find out which Lorem words are ordered."
      ]
    },
    {
      "cell_type": "code",
      "execution_count": 71,
      "metadata": {
        "id": "tqe3QVev-Aex"
      },
      "outputs": [],
      "source": [
        "def is_ordered_word_lorem():\n",
        "  file = open('words.txt')\n",
        "    \n",
        "  for line in file:\n",
        "    word_list = line.split()\n",
        "\n",
        "    word = word_list[0]\n",
        "    word = word.lower()\n",
        "    if is_ordered_word(word):\n",
        "       print(word)\n",
        "        \n",
        "    "
      ]
    },
    {
      "cell_type": "code",
      "execution_count": 70,
      "metadata": {
        "id": "uyviusIv-Aey"
      },
      "outputs": [],
      "source": [
        "is_ordered_word_lorem()"
      ]
    },
    {
      "cell_type": "code",
      "execution_count": 66,
      "metadata": {
        "id": "teplgfiZ-Aez"
      },
      "outputs": [],
      "source": [
        "word = 'Nam'\n",
        "\n",
        "is_ordered_word(word)"
      ]
    },
    {
      "cell_type": "code",
      "execution_count": 61,
      "metadata": {
        "colab": {
          "base_uri": "https://localhost:8080/"
        },
        "id": "fEGpzqnx-Ae0",
        "outputId": "6666d4eb-b86f-474b-a03c-349773200228"
      },
      "outputs": [
        {
          "output_type": "execute_result",
          "data": {
            "text/plain": [
              "True"
            ]
          },
          "metadata": {},
          "execution_count": 61
        }
      ],
      "source": [
        "'N' < 'a'"
      ]
    },
    {
      "cell_type": "code",
      "execution_count": null,
      "metadata": {
        "id": "H1B7WKAR-Ae1"
      },
      "outputs": [],
      "source": [
        ""
      ]
    }
  ],
  "metadata": {
    "kernelspec": {
      "display_name": "Python 3 (ipykernel)",
      "language": "python",
      "name": "python3"
    },
    "language_info": {
      "codemirror_mode": {
        "name": "ipython",
        "version": 3
      },
      "file_extension": ".py",
      "mimetype": "text/x-python",
      "name": "python",
      "nbconvert_exporter": "python",
      "pygments_lexer": "ipython3",
      "version": "3.9.7"
    },
    "colab": {
      "name": "Assignment_2_Words Opeyemi Fatunla(1).ipynb",
      "provenance": [],
      "collapsed_sections": [],
      "include_colab_link": true
    }
  },
  "nbformat": 4,
  "nbformat_minor": 0
}