{
  "cells": [
    {
      "cell_type": "markdown",
      "metadata": {
        "id": "view-in-github",
        "colab_type": "text"
      },
      "source": [
        "<a href=\"https://colab.research.google.com/github/OpeyemiFatunla/Python-Class/blob/main/Untitled17.ipynb\" target=\"_parent\"><img src=\"https://colab.research.google.com/assets/colab-badge.svg\" alt=\"Open In Colab\"/></a>"
      ]
    },
    {
      "cell_type": "markdown",
      "metadata": {
        "id": "ymXcjYiAjpbe"
      },
      "source": [
        ""
      ]
    },
    {
      "cell_type": "code",
      "execution_count": null,
      "metadata": {
        "id": "6HQFEv7LaQB9"
      },
      "outputs": [],
      "source": [
        "file =open(\"/content/words.txt\")"
      ]
    },
    {
      "cell_type": "code",
      "execution_count": null,
      "metadata": {
        "colab": {
          "base_uri": "https://localhost:8080/",
          "height": 35
        },
        "id": "h2nRnQG0laQ7",
        "outputId": "d2e275c6-9dc7-4a1d-a22e-61cfbdac45df"
      },
      "outputs": [
        {
          "data": {
            "application/vnd.google.colaboratory.intrinsic+json": {
              "type": "string"
            },
            "text/plain": [
              "'Lorem\\n'"
            ]
          },
          "execution_count": 41,
          "metadata": {},
          "output_type": "execute_result"
        }
      ],
      "source": [
        "file.readline()"
      ]
    },
    {
      "cell_type": "code",
      "execution_count": null,
      "metadata": {
        "colab": {
          "base_uri": "https://localhost:8080/",
          "height": 35
        },
        "id": "Imnoe_Gvx6b1",
        "outputId": "98495bf2-e86f-4734-bd05-0d0ae50149fe"
      },
      "outputs": [
        {
          "data": {
            "application/vnd.google.colaboratory.intrinsic+json": {
              "type": "string"
            },
            "text/plain": [
              "'ipsum\\n'"
            ]
          },
          "execution_count": 42,
          "metadata": {},
          "output_type": "execute_result"
        }
      ],
      "source": [
        "file.readline()"
      ]
    },
    {
      "cell_type": "code",
      "execution_count": null,
      "metadata": {
        "colab": {
          "base_uri": "https://localhost:8080/"
        },
        "id": "-rGh8w9hyGJp",
        "outputId": "ec0eee7e-41c7-4ade-8484-a69f0faf42d9"
      },
      "outputs": [
        {
          "name": "stdout",
          "output_type": "stream",
          "text": [
            "Lorem\n",
            "\n",
            "ipsum\n",
            "\n",
            "dolor\n",
            "\n",
            "sit\n",
            "\n",
            "amet\n",
            "\n",
            "consectetur\n",
            "\n",
            "adipiscing\n",
            "\n",
            "elit\n",
            "\n",
            "Nulla\n",
            "\n",
            "sodales\n",
            "\n",
            "orci\n",
            "\n",
            "sed\n",
            "\n",
            "nisl\n",
            "\n",
            "tempor\n",
            "\n",
            "tristique\n",
            "\n",
            "Donec\n",
            "\n",
            "commodo\n",
            "\n",
            "non\n",
            "\n",
            "leo\n",
            "\n",
            "quis\n",
            "\n",
            "fermentum\n",
            "\n"
          ]
        }
      ],
      "source": [
        "file =open(\"/content/words.txt\")\n",
        "for index, line in enumerate(file):\n",
        "    if index <=20:\n",
        "        print(line)"
      ]
    },
    {
      "cell_type": "code",
      "execution_count": null,
      "metadata": {
        "colab": {
          "base_uri": "https://localhost:8080/"
        },
        "id": "V5Wiy6Jw1Eu3",
        "outputId": "4c9334f5-de10-43e9-b721-c49881404fea"
      },
      "outputs": [
        {
          "name": "stdout",
          "output_type": "stream",
          "text": [
            "['Lorem']\n",
            "['ipsum']\n",
            "['dolor']\n",
            "['sit']\n",
            "['amet']\n",
            "['consectetur']\n",
            "['adipiscing']\n",
            "['elit']\n",
            "['Nulla']\n",
            "['sodales']\n",
            "['orci']\n",
            "['sed']\n",
            "['nisl']\n",
            "['tempor']\n",
            "['tristique']\n",
            "['Donec']\n",
            "['commodo']\n",
            "['non']\n",
            "['leo']\n",
            "['quis']\n",
            "['fermentum']\n"
          ]
        }
      ],
      "source": [
        "file =open(\"/content/words.txt\")\n",
        "for index, line in enumerate (file):\n",
        "    if index<=20:\n",
        "        word_list=line.split()\n",
        "        print(word_list)"
      ]
    },
    {
      "cell_type": "code",
      "execution_count": null,
      "metadata": {
        "colab": {
          "base_uri": "https://localhost:8080/"
        },
        "id": "udo6_DEE1_8U",
        "outputId": "174bc89d-6524-4ab3-b571-67d252c6868e"
      },
      "outputs": [
        {
          "name": "stdout",
          "output_type": "stream",
          "text": [
            "consectetur\n",
            "adipiscing\n",
            "vestibulum\n",
            "pellentesque\n",
            "parturient\n",
            "sollicitudin\n",
            "scelerisque\n",
            "ullamcorper\n",
            "condimentum\n",
            "Suspendisse\n"
          ]
        }
      ],
      "source": [
        "file =open(\"/content/words.txt\")\n",
        "for line in file:    \n",
        "    word_list = line.split()    \n",
        "    word = word_list[0]    \n",
        "    if len(word)>=10:        \n",
        "  \n",
        "\n",
        "        print(word)"
      ]
    },
    {
      "cell_type": "code",
      "execution_count": null,
      "metadata": {
        "colab": {
          "base_uri": "https://localhost:8080/"
        },
        "id": "4bHFn3Cu3-w3",
        "outputId": "b24e1ce6-7eca-4365-b90e-17b235142488"
      },
      "outputs": [
        {
          "name": "stdout",
          "output_type": "stream",
          "text": [
            "Lorem\n",
            "\n",
            "dolor\n",
            "\n",
            "sit\n",
            "\n",
            "consectetur\n",
            "\n",
            "Nulla\n",
            "\n",
            "sodales\n",
            "\n",
            "sed\n",
            "\n",
            "nisl\n",
            "\n",
            "tempor\n",
            "\n",
            "tristique\n",
            "\n",
            "Donec\n",
            "\n",
            "commodo\n",
            "\n",
            "non\n",
            "\n",
            "leo\n",
            "\n",
            "quis\n",
            "\n",
            "fermentum\n",
            "\n",
            "Vivamus\n",
            "\n",
            "tortor\n",
            "\n",
            "vestibulum\n",
            "\n",
            "dictum\n",
            "\n",
            "sagittis\n",
            "\n",
            "convallis\n",
            "\n",
            "Aliquam\n",
            "\n",
            "suscipit\n",
            "\n",
            "Cras\n",
            "\n",
            "felis\n",
            "\n",
            "pellentesque\n",
            "\n",
            "vulputate\n",
            "\n",
            "finibus\n",
            "\n",
            "metus\n",
            "\n",
            "Nunc\n",
            "\n",
            "consequat\n",
            "\n",
            "laoreet\n",
            "\n",
            "In\n",
            "\n",
            "diam\n",
            "\n",
            "hendrerit\n",
            "\n",
            "mi\n",
            "\n",
            "Mauris\n",
            "\n",
            "dapibus\n",
            "\n",
            "gravida\n",
            "\n",
            "tempus\n",
            "\n",
            "vel\n",
            "\n",
            "nisi\n",
            "\n",
            "libero\n",
            "\n",
            "rutrum\n",
            "\n",
            "pretium\n",
            "\n",
            "feugiat\n",
            "\n",
            "purus\n",
            "\n",
            "varius\n",
            "\n",
            "natoque\n",
            "\n",
            "penatibus\n",
            "\n",
            "magnis\n",
            "\n",
            "dis\n",
            "\n",
            "parturient\n",
            "\n",
            "montes\n",
            "\n",
            "nascetur\n",
            "\n",
            "ridiculus\n",
            "\n",
            "mus\n",
            "\n",
            "Proin\n",
            "\n",
            "posuere\n",
            "\n",
            "ligula\n",
            "\n",
            "rhoncus\n",
            "\n",
            "mollis\n",
            "\n",
            "dui\n",
            "\n",
            "venenatis\n",
            "\n",
            "lacus\n",
            "\n",
            "molestie\n",
            "\n",
            "turpis\n",
            "\n",
            "tincidunt\n",
            "\n",
            "lobortis\n",
            "\n",
            "malesuada\n",
            "\n",
            "risus\n",
            "\n",
            "neque\n",
            "\n",
            "faucibus\n",
            "\n",
            "tellus\n",
            "\n",
            "Quisque\n",
            "\n",
            "pulvinar\n",
            "\n",
            "luctus\n",
            "\n",
            "Nam\n",
            "\n",
            "vitae\n",
            "\n",
            "porttitor\n",
            "\n",
            "magna\n",
            "\n",
            "sollicitudin\n",
            "\n",
            "dignissim\n",
            "\n",
            "Morbi\n",
            "\n",
            "Integer\n",
            "\n",
            "facilisis\n",
            "\n",
            "sapien\n",
            "\n",
            "sesse\n",
            "\n",
            "nesnes\n",
            "\n",
            "viverra\n",
            "\n",
            "semper\n",
            "\n",
            "nibh\n",
            "\n",
            "velit\n",
            "\n",
            "sem\n",
            "\n",
            "bibendum\n",
            "\n",
            "Praesent\n",
            "\n",
            "nec\n",
            "\n",
            "scelerisque\n",
            "\n",
            "lectus\n",
            "\n",
            "justo\n",
            "\n",
            "Curabitur\n",
            "\n",
            "frifirri\n",
            "\n",
            "Aenean\n",
            "\n",
            "lacinia\n",
            "\n",
            "Maecenas\n",
            "\n",
            "habitant\n",
            "\n",
            "senesses\n",
            "\n",
            "netus\n",
            "\n",
            "fames\n",
            "\n",
            "cursus\n",
            "\n",
            "pharetra\n",
            "\n",
            "blandit\n",
            "\n",
            "Phasellus\n",
            "\n",
            "condimentum\n",
            "\n",
            "porta\n",
            "\n",
            "mattis\n",
            "\n",
            "vehicula\n",
            "\n",
            "Fusce\n",
            "\n",
            "volutpat\n",
            "\n",
            "Nullam\n",
            "\n",
            "placerat\n",
            "\n",
            "quam\n",
            "\n",
            "saassa\n",
            "\n",
            "Suspendisse\n",
            "\n",
            "maximus\n",
            "\n",
            "congue\n",
            "\n",
            "hac\n",
            "\n",
            "habitasse\n",
            "\n",
            "platea\n",
            "\n",
            "dictumst\n",
            "\n",
            "trylyk\n",
            "\n",
            "Antryl\n"
          ]
        }
      ],
      "source": [
        "def non_vowel words():\n",
        "    words =open(\"/content/words.txt\")\n",
        "for line in file:\n",
        "    if line[0] not in \"aieou\":\n",
        "        print(line)"
      ]
    },
    {
      "cell_type": "code",
      "execution_count": null,
      "metadata": {
        "id": "iZqK2Ly44-LM"
      },
      "outputs": [],
      "source": [
        "\n",
        "file=open(\"/content/words.txt\")\n",
        "def uses_all(text,letters):\n",
        "    it_uses_all=True\n",
        "    for letter in letters:\n",
        "        if not letter in text:\n",
        "            it_uses_all=False\n",
        "            return it_uses_all"
      ]
    },
    {
      "cell_type": "code",
      "execution_count": null,
      "metadata": {
        "colab": {
          "base_uri": "https://localhost:8080/"
        },
        "id": "h8gcbYTS4t_F",
        "outputId": "bc02b443-ac4f-4e4c-a803-a4d009f2bce4"
      },
      "outputs": [
        {
          "data": {
            "text/plain": [
              "False"
            ]
          },
          "execution_count": 5,
          "metadata": {},
          "output_type": "execute_result"
        }
      ],
      "source": [
        "def uses_all_lorem_letters(letters):\n",
        "    file = open(\"/content/words.txt\")\n",
        "    for line in file:\n",
        "      word_list= line.split()\n",
        "      word = word_list[0]\n",
        "      word = word.lower()\n",
        "letters='abq'\n",
        "text= 'He is a good man'\n",
        "uses_all(text,letters)"
      ]
    },
    {
      "cell_type": "code",
      "execution_count": null,
      "metadata": {
        "id": "0a2pvY3a8lwo"
      },
      "outputs": [],
      "source": [
        ""
      ]
    },
    {
      "cell_type": "code",
      "execution_count": null,
      "metadata": {
        "colab": {
          "base_uri": "https://localhost:8080/"
        },
        "id": "AlYdwE_y8fML",
        "outputId": "93efd054-a056-4151-f2f1-fae022a472ce"
      },
      "outputs": [
        {
          "data": {
            "text/plain": [
              "False"
            ]
          },
          "execution_count": 4,
          "metadata": {},
          "output_type": "execute_result"
        }
      ],
      "source": [
        "letters='agc'\n",
        "text= 'He is a good man'\n",
        "uses_all(text,letters)"
      ]
    },
    {
      "cell_type": "code",
      "execution_count": null,
      "metadata": {
        "colab": {
          "background_save": true
        },
        "id": "CVS2ptj98nE5"
      },
      "outputs": [],
      "source": [
        "file = open(\"/content/words.txt\")\n",
        "for line in file:\n",
        "    word_list= line.split()\n",
        "    word = word_list[0]\n",
        "    word = word.lower()\n",
        "    i\n",
        "    print(word)"
      ]
    }
  ],
  "metadata": {
    "colab": {
      "name": "Untitled17.ipynb",
      "provenance": [],
      "authorship_tag": "ABX9TyPdKChWl6jECr6kGX0yHP6A",
      "include_colab_link": true
    },
    "kernelspec": {
      "display_name": "Python 3",
      "name": "python3"
    },
    "language_info": {
      "name": "python"
    }
  },
  "nbformat": 4,
  "nbformat_minor": 0
}